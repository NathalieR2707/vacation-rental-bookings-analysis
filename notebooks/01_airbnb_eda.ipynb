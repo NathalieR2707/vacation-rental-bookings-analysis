{
 "cells": [
  {
   "cell_type": "code",
   "execution_count": null,
   "id": "3ef72c98-6315-4897-9c73-c2e42b4b554d",
   "metadata": {},
   "outputs": [],
   "source": [
    "## Airbnb Bookings Data Analysis\n",
    "#Exploring listing and bookings data to uncover factors that drive cancellations, revenue potential, and guest behavior.\n",
    "\n",
    "## 1. Objective\n",
    "#Initial EDA and vizualisations to identify the drivers of cancellations, revenue and guest behavior\n",
    "\n",
    "## 2. Data Overview\n",
    "#This data is publicly available on kaggle.com and contains\n",
    "\n",
    "## 3. Cleaning & Preparation\n",
    "#Missing data, formatting, value sanity checks.\n",
    "\n",
    "## 4. Key Questions Explored\n",
    "# What listing features correlate with high occupancy?\n",
    "# Does cancellation policy impact pricing or reviews?\n",
    "# How does location affect guest behavior?\n",
    "\n",
    "## 5. Visual Insights\n",
    "#Charts, grouped metrics, comparisons.\n",
    "\n",
    "## 6. Observations & Takeaways\n",
    "#Summary of business-relevant insights.\n"
   ]
  }
 ],
 "metadata": {
  "kernelspec": {
   "display_name": "Python [conda env:base] *",
   "language": "python",
   "name": "conda-base-py"
  },
  "language_info": {
   "codemirror_mode": {
    "name": "ipython",
    "version": 3
   },
   "file_extension": ".py",
   "mimetype": "text/x-python",
   "name": "python",
   "nbconvert_exporter": "python",
   "pygments_lexer": "ipython3",
   "version": "3.12.7"
  }
 },
 "nbformat": 4,
 "nbformat_minor": 5
}
